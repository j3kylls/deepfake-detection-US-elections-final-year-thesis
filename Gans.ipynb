{
 "cells": [
  {
   "cell_type": "code",
   "execution_count": 2,
   "metadata": {},
   "outputs": [
    {
     "ename": "ModuleNotFoundError",
     "evalue": "No module named 'dnnlib'",
     "output_type": "error",
     "traceback": [
      "\u001b[31m---------------------------------------------------------------------------\u001b[39m",
      "\u001b[31mModuleNotFoundError\u001b[39m                       Traceback (most recent call last)",
      "\u001b[36mCell\u001b[39m\u001b[36m \u001b[39m\u001b[32mIn[2]\u001b[39m\u001b[32m, line 6\u001b[39m\n\u001b[32m      4\u001b[39m \u001b[38;5;28;01mimport\u001b[39;00m\u001b[38;5;250m \u001b[39m\u001b[34;01mPIL\u001b[39;00m\u001b[34;01m.\u001b[39;00m\u001b[34;01mImage\u001b[39;00m\n\u001b[32m      5\u001b[39m \u001b[38;5;28;01mimport\u001b[39;00m\u001b[38;5;250m \u001b[39m\u001b[34;01mtorch\u001b[39;00m\n\u001b[32m----> \u001b[39m\u001b[32m6\u001b[39m \u001b[38;5;28;01mimport\u001b[39;00m\u001b[38;5;250m \u001b[39m\u001b[34;01mdnnlib\u001b[39;00m\n\u001b[32m      7\u001b[39m \u001b[38;5;28;01mimport\u001b[39;00m\u001b[38;5;250m \u001b[39m\u001b[34;01mlegacy\u001b[39;00m\n\u001b[32m      8\u001b[39m \u001b[38;5;28;01mfrom\u001b[39;00m\u001b[38;5;250m \u001b[39m\u001b[34;01mtqdm\u001b[39;00m\u001b[38;5;250m \u001b[39m\u001b[38;5;28;01mimport\u001b[39;00m tqdm\n",
      "\u001b[31mModuleNotFoundError\u001b[39m: No module named 'dnnlib'"
     ]
    }
   ],
   "source": [
    "\n",
    "import os\n",
    "import re\n",
    "import numpy as np\n",
    "import PIL.Image\n",
    "import torch\n",
    "import dnnlib\n",
    "import legacy\n",
    "from tqdm import tqdm\n",
    "\n",
    "# ---------------------- SETTINGS ----------------------\n",
    "IMG_SIZE = 128  # Resize your images to this size\n",
    "BATCH_SIZE = 16\n",
    "GENERATED_FRAMES_DIR = './generated_frames'\n",
    "REAL_FRAMES_DIR = './real_frames'\n",
    "NETWORK_PKL = 'stylegan3-r-ffhq-1024x1024.pkl'  # Your pre-trained model file\n",
    "SEQUENCE_NAME = 'real_sequence03'\n",
    "EPOCHS = 1000\n",
    "LATENT_DIM = 512\n",
    "# ------------------------------------------------------\n",
    "\n",
    "# Create the directory for generated frames if it doesn't exist\n",
    "os.makedirs(GENERATED_FRAMES_DIR, exist_ok=True)\n",
    "\n",
    "# --------------------- LOADING PRE-TRAINED STYLEGAN3 --------------------- #\n",
    "\n",
    "def load_pretrained_model():\n",
    "    print(f'Loading networks from \"{NETWORK_PKL}\"...')\n",
    "    device = torch.device('cuda' if torch.cuda.is_available() else 'cpu')\n",
    "    with dnnlib.util.open_url(NETWORK_PKL) as f:\n",
    "        G = legacy.load_network_pkl(f)['G_ema'].to(device)\n",
    "    print('Model loaded successfully.')\n",
    "    return G, device\n",
    "\n",
    "# --------------------- GENERATING AND SAVING FRAMES --------------------- #\n",
    "\n",
    "def save_generated_frames(generated_images, epoch, sequence_name=SEQUENCE_NAME):\n",
    "    generated_images = (generated_images.permute(0, 2, 3, 1).cpu().numpy() * 127.5 + 128).astype(np.uint8)\n",
    "    for i, frame in enumerate(generated_images):\n",
    "        img = PIL.Image.fromarray(frame, 'RGB')\n",
    "        file_name = f'{sequence_name}_frame{epoch}_{i:04d}.jpg'\n",
    "        img.save(os.path.join(GENERATED_FRAMES_DIR, file_name))\n",
    "\n",
    "def generate_images(G, device, seeds, truncation_psi=1.0, noise_mode='const'):\n",
    "    label = torch.zeros([1, G.c_dim], device=device)\n",
    "    for seed in seeds:\n",
    "        print(f'Generating image for seed {seed}...')\n",
    "        z = torch.from_numpy(np.random.RandomState(seed).randn(1, G.z_dim)).to(device)\n",
    "        img = G(z, label, truncation_psi=truncation_psi, noise_mode=noise_mode)\n",
    "        save_generated_frames(img, seed)\n",
    "\n",
    "# --------------------- TRAINING FUNCTION --------------------- #\n",
    "\n",
    "def train_gan(G, device, epochs, batch_size):\n",
    "    for epoch in tqdm(range(epochs)):\n",
    "        # Generate images\n",
    "        seeds = np.random.randint(0, 10000, batch_size)\n",
    "        generate_images(G, device, seeds)\n",
    "\n",
    "if __name__ == '__main__':\n",
    "    G, device = load_pretrained_model()\n",
    "    train_gan(G, device, EPOCHS, BATCH_SIZE)\n"
   ]
  },
  {
   "cell_type": "code",
   "execution_count": null,
   "metadata": {},
   "outputs": [
    {
     "ename": "ModuleNotFoundError",
     "evalue": "No module named 'dnnlib'",
     "output_type": "error",
     "traceback": [
      "\u001b[31m---------------------------------------------------------------------------\u001b[39m",
      "\u001b[31mModuleNotFoundError\u001b[39m                       Traceback (most recent call last)",
      "\u001b[36mCell\u001b[39m\u001b[36m \u001b[39m\u001b[32mIn[1]\u001b[39m\u001b[32m, line 6\u001b[39m\n\u001b[32m      4\u001b[39m \u001b[38;5;28;01mimport\u001b[39;00m\u001b[38;5;250m \u001b[39m\u001b[34;01mPIL\u001b[39;00m\u001b[34;01m.\u001b[39;00m\u001b[34;01mImage\u001b[39;00m\n\u001b[32m      5\u001b[39m \u001b[38;5;28;01mimport\u001b[39;00m\u001b[38;5;250m \u001b[39m\u001b[34;01mtorch\u001b[39;00m\n\u001b[32m----> \u001b[39m\u001b[32m6\u001b[39m \u001b[38;5;28;01mimport\u001b[39;00m\u001b[38;5;250m \u001b[39m\u001b[34;01mdnnlib\u001b[39;00m\n\u001b[32m      7\u001b[39m \u001b[38;5;28;01mimport\u001b[39;00m\u001b[38;5;250m \u001b[39m\u001b[34;01mlegacy\u001b[39;00m\n\u001b[32m      8\u001b[39m \u001b[38;5;28;01mimport\u001b[39;00m\u001b[38;5;250m \u001b[39m\u001b[34;01mclick\u001b[39;00m\n",
      "\u001b[31mModuleNotFoundError\u001b[39m: No module named 'dnnlib'"
     ]
    }
   ],
   "source": []
  },
  {
   "cell_type": "code",
   "execution_count": 2,
   "metadata": {},
   "outputs": [
    {
     "name": "stdout",
     "output_type": "stream",
     "text": [
      "Note: you may need to restart the kernel to use updated packages.\n"
     ]
    },
    {
     "name": "stderr",
     "output_type": "stream",
     "text": [
      "ERROR: Could not find a version that satisfies the requirement dnnlib (from versions: none)\n",
      "ERROR: No matching distribution found for dnnlib\n"
     ]
    }
   ],
   "source": [
    "%pip install dnnlib"
   ]
  },
  {
   "cell_type": "code",
   "execution_count": null,
   "metadata": {},
   "outputs": [],
   "source": [
    "pimnp"
   ]
  }
 ],
 "metadata": {
  "kernelspec": {
   "display_name": "pytorch",
   "language": "python",
   "name": "python3"
  },
  "language_info": {
   "codemirror_mode": {
    "name": "ipython",
    "version": 3
   },
   "file_extension": ".py",
   "mimetype": "text/x-python",
   "name": "python",
   "nbconvert_exporter": "python",
   "pygments_lexer": "ipython3",
   "version": "3.12.9"
  }
 },
 "nbformat": 4,
 "nbformat_minor": 2
}
